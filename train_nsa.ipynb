{
 "cells": [
  {
   "cell_type": "code",
   "execution_count": null,
   "id": "a8656804",
   "metadata": {},
   "outputs": [
    {
     "name": "stderr",
     "output_type": "stream",
     "text": [
      "/root/venv310/lib/python3.10/site-packages/IPython/core/magics/osm.py:417: UserWarning: This is now an optional IPython functionality, setting dhist requires you to install the `pickleshare` library.\n",
      "  self.shell.db['dhist'] = compress_dhist(dhist)[-100:]\n"
     ]
    },
    {
     "name": "stdout",
     "output_type": "stream",
     "text": [
      "/root\n",
      "Untitled-1.ipynb  torchtitan  venv310\n"
     ]
    }
   ],
   "source": [
    "# pip install uv\n",
    "# uv python install 3.10\n",
    "# uv venv -python 3.10 venv310\n",
    "# source venv310/bin/activate\n",
    "# python -m ensurepip --upgrade\n",
    "%cd /root/\n",
    "!ls"
   ]
  },
  {
   "cell_type": "code",
   "execution_count": 15,
   "id": "c8c9f6d2",
   "metadata": {},
   "outputs": [
    {
     "name": "stdout",
     "output_type": "stream",
     "text": [
      "pip 23.0.1 from /root/venv310/lib/python3.10/site-packages/pip (python 3.10)\n"
     ]
    }
   ],
   "source": [
    "!python -m pip -V"
   ]
  },
  {
   "cell_type": "code",
   "execution_count": 16,
   "id": "b9da7c8a",
   "metadata": {},
   "outputs": [
    {
     "name": "stdout",
     "output_type": "stream",
     "text": [
      "Cloning into 'torchtitan'...\n",
      "remote: Enumerating objects: 6621, done.\u001b[K\n",
      "remote: Counting objects: 100% (1531/1531), done.\u001b[K\n",
      "remote: Compressing objects: 100% (360/360), done.\u001b[K\n",
      "remote: Total 6621 (delta 1344), reused 1173 (delta 1171), pack-reused 5090 (from 1)\u001b[K\n",
      "Receiving objects: 100% (6621/6621), 12.76 MiB | 32.33 MiB/s, done.\n",
      "Resolving deltas: 100% (4466/4466), done.\n",
      "/root/torchtitan\n"
     ]
    }
   ],
   "source": [
    "!rm -rf torchtitan\n",
    "!git clone https://github.com/hammersam/torchtitan.git\n",
    "%cd torchtitan\n"
   ]
  },
  {
   "cell_type": "code",
   "execution_count": null,
   "id": "8c071cc5",
   "metadata": {},
   "outputs": [
    {
     "name": "stdout",
     "output_type": "stream",
     "text": [
      "Found existing installation: torch 2.8.0\n",
      "Uninstalling torch-2.8.0:\n",
      "  Successfully uninstalled torch-2.8.0\n",
      "\u001b[33mWARNING: Skipping torchvision as it is not installed.\u001b[0m\u001b[33m\n",
      "\u001b[0m\u001b[33mWARNING: Skipping torchaudio as it is not installed.\u001b[0m\u001b[33m\n",
      "\u001b[0m\u001b[33mWARNING: Skipping pytorch-triton as it is not installed.\u001b[0m\u001b[33m\n",
      "\u001b[0mLooking in indexes: https://download.pytorch.org/whl/nightly/cu128\n",
      "Collecting torch\n",
      "  Obtaining dependency information for torch from https://download.pytorch.org/whl/nightly/cu128/torch-2.9.0.dev20250813%2Bcu128-cp310-cp310-manylinux_2_28_x86_64.whl.metadata\n",
      "  Downloading https://download.pytorch.org/whl/nightly/cu128/torch-2.9.0.dev20250813%2Bcu128-cp310-cp310-manylinux_2_28_x86_64.whl.metadata (31 kB)\n",
      "Collecting torchvision\n",
      "  Obtaining dependency information for torchvision from https://download.pytorch.org/whl/nightly/cu128/torchvision-0.24.0.dev20250813%2Bcu128-cp310-cp310-manylinux_2_28_x86_64.whl.metadata\n",
      "  Downloading https://download.pytorch.org/whl/nightly/cu128/torchvision-0.24.0.dev20250813%2Bcu128-cp310-cp310-manylinux_2_28_x86_64.whl.metadata (5.7 kB)\n",
      "Requirement already satisfied: nvidia-cusparselt-cu12==0.7.1 in /root/venv310/lib/python3.10/site-packages (from torch) (0.7.1)\n",
      "Requirement already satisfied: sympy>=1.13.3 in /root/venv310/lib/python3.10/site-packages (from torch) (1.14.0)\n",
      "Requirement already satisfied: nvidia-cuda-runtime-cu12==12.8.90 in /root/venv310/lib/python3.10/site-packages (from torch) (12.8.90)\n",
      "Requirement already satisfied: nvidia-curand-cu12==10.3.9.90 in /root/venv310/lib/python3.10/site-packages (from torch) (10.3.9.90)\n",
      "Collecting pytorch-triton==3.4.0+gitf7888497\n",
      "  Obtaining dependency information for pytorch-triton==3.4.0+gitf7888497 from https://download.pytorch.org/whl/nightly/pytorch_triton-3.4.0%2Bgitf7888497-cp310-cp310-manylinux_2_27_x86_64.manylinux_2_28_x86_64.whl.metadata\n",
      "  Downloading https://download.pytorch.org/whl/nightly/pytorch_triton-3.4.0%2Bgitf7888497-cp310-cp310-manylinux_2_27_x86_64.manylinux_2_28_x86_64.whl.metadata (1.8 kB)\n",
      "Requirement already satisfied: nvidia-nvtx-cu12==12.8.90 in /root/venv310/lib/python3.10/site-packages (from torch) (12.8.90)\n",
      "Requirement already satisfied: filelock in /root/venv310/lib/python3.10/site-packages (from torch) (3.18.0)\n",
      "Requirement already satisfied: nvidia-cusolver-cu12==11.7.3.90 in /root/venv310/lib/python3.10/site-packages (from torch) (11.7.3.90)\n",
      "Requirement already satisfied: nvidia-nvjitlink-cu12==12.8.93 in /root/venv310/lib/python3.10/site-packages (from torch) (12.8.93)\n",
      "Requirement already satisfied: nvidia-cublas-cu12==12.8.4.1 in /root/venv310/lib/python3.10/site-packages (from torch) (12.8.4.1)\n",
      "Requirement already satisfied: nvidia-cuda-nvrtc-cu12==12.8.93 in /root/venv310/lib/python3.10/site-packages (from torch) (12.8.93)\n",
      "Collecting nvidia-nccl-cu12==2.27.5\n",
      "  Obtaining dependency information for nvidia-nccl-cu12==2.27.5 from https://download.pytorch.org/whl/nightly/cu128/nvidia_nccl_cu12-2.27.5-py3-none-manylinux2014_x86_64.manylinux_2_17_x86_64.whl.metadata\n",
      "  Downloading https://download.pytorch.org/whl/nightly/cu128/nvidia_nccl_cu12-2.27.5-py3-none-manylinux2014_x86_64.manylinux_2_17_x86_64.whl.metadata (2.0 kB)\n",
      "Requirement already satisfied: nvidia-cudnn-cu12==9.10.2.21 in /root/venv310/lib/python3.10/site-packages (from torch) (9.10.2.21)\n",
      "Requirement already satisfied: nvidia-cusparse-cu12==12.5.8.93 in /root/venv310/lib/python3.10/site-packages (from torch) (12.5.8.93)\n",
      "Requirement already satisfied: nvidia-cuda-cupti-cu12==12.8.90 in /root/venv310/lib/python3.10/site-packages (from torch) (12.8.90)\n",
      "Requirement already satisfied: networkx>=2.5.1 in /root/venv310/lib/python3.10/site-packages (from torch) (3.4.2)\n",
      "Requirement already satisfied: fsspec>=0.8.5 in /root/venv310/lib/python3.10/site-packages (from torch) (2025.3.0)\n",
      "Requirement already satisfied: nvidia-cufile-cu12==1.13.1.3 in /root/venv310/lib/python3.10/site-packages (from torch) (1.13.1.3)\n",
      "Requirement already satisfied: jinja2 in /root/venv310/lib/python3.10/site-packages (from torch) (3.1.6)\n",
      "Requirement already satisfied: nvidia-cufft-cu12==11.3.3.83 in /root/venv310/lib/python3.10/site-packages (from torch) (11.3.3.83)\n",
      "Collecting nvidia-nvshmem-cu12==3.3.9\n",
      "  Obtaining dependency information for nvidia-nvshmem-cu12==3.3.9 from https://download.pytorch.org/whl/nightly/nvidia_nvshmem_cu12-3.3.9-py3-none-manylinux2014_x86_64.manylinux_2_17_x86_64.whl.metadata\n",
      "  Downloading https://download.pytorch.org/whl/nightly/nvidia_nvshmem_cu12-3.3.9-py3-none-manylinux2014_x86_64.manylinux_2_17_x86_64.whl.metadata (2.1 kB)\n",
      "Requirement already satisfied: typing-extensions>=4.10.0 in /root/venv310/lib/python3.10/site-packages (from torch) (4.14.1)\n",
      "Requirement already satisfied: setuptools>=40.8.0 in /root/venv310/lib/python3.10/site-packages (from pytorch-triton==3.4.0+gitf7888497->torch) (65.5.0)\n",
      "Requirement already satisfied: pillow!=8.3.*,>=5.3.0 in /root/venv310/lib/python3.10/site-packages (from torchvision) (11.3.0)\n",
      "Requirement already satisfied: numpy in /root/venv310/lib/python3.10/site-packages (from torchvision) (2.2.6)\n",
      "Requirement already satisfied: mpmath<1.4,>=1.1.0 in /root/venv310/lib/python3.10/site-packages (from sympy>=1.13.3->torch) (1.3.0)\n",
      "Requirement already satisfied: MarkupSafe>=2.0 in /root/venv310/lib/python3.10/site-packages (from jinja2->torch) (3.0.2)\n",
      "Downloading https://download.pytorch.org/whl/nightly/cu128/torch-2.9.0.dev20250813%2Bcu128-cp310-cp310-manylinux_2_28_x86_64.whl (899.7 MB)\n",
      "\u001b[2K   \u001b[90m━━━━━━━━━━━━━━━━━━━━━━━━━━━━━━━━━━━━━━━━\u001b[0m \u001b[32m899.7/899.7 MB\u001b[0m \u001b[31m5.5 MB/s\u001b[0m eta \u001b[36m0:00:00\u001b[0m:00:01\u001b[0m00:01\u001b[0m\n",
      "\u001b[?25hDownloading https://download.pytorch.org/whl/nightly/cu128/nvidia_nccl_cu12-2.27.5-py3-none-manylinux2014_x86_64.manylinux_2_17_x86_64.whl (322.3 MB)\n",
      "\u001b[2K   \u001b[90m━━━━━━━━━━━━━━━━━━━━━━━━━━━━━━━━━━━━━━━━\u001b[0m \u001b[32m322.3/322.3 MB\u001b[0m \u001b[31m14.5 MB/s\u001b[0m eta \u001b[36m0:00:00\u001b[0m00:01\u001b[0m00:01\u001b[0m\n",
      "\u001b[?25hDownloading https://download.pytorch.org/whl/nightly/nvidia_nvshmem_cu12-3.3.9-py3-none-manylinux2014_x86_64.manylinux_2_17_x86_64.whl (124.6 MB)\n",
      "\u001b[2K   \u001b[90m━━━━━━━━━━━━━━━━━━━━━━━━━━━━━━━━━━━━━━━━\u001b[0m \u001b[32m124.6/124.6 MB\u001b[0m \u001b[31m35.3 MB/s\u001b[0m eta \u001b[36m0:00:00\u001b[0m00:01\u001b[0m00:01\u001b[0m\n",
      "\u001b[?25hDownloading https://download.pytorch.org/whl/nightly/pytorch_triton-3.4.0%2Bgitf7888497-cp310-cp310-manylinux_2_27_x86_64.manylinux_2_28_x86_64.whl (154.6 MB)\n",
      "\u001b[2K   \u001b[90m━━━━━━━━━━━━━━━━━━━━━━━━━━━━━━━━━━━━━━━━\u001b[0m \u001b[32m154.6/154.6 MB\u001b[0m \u001b[31m28.8 MB/s\u001b[0m eta \u001b[36m0:00:00\u001b[0m00:01\u001b[0m00:01\u001b[0m\n",
      "\u001b[?25hDownloading https://download.pytorch.org/whl/nightly/cu128/torchvision-0.24.0.dev20250813%2Bcu128-cp310-cp310-manylinux_2_28_x86_64.whl (8.7 MB)\n",
      "\u001b[2K   \u001b[90m━━━━━━━━━━━━━━━━━━━━━━━━━━━━━━━━━━━━━━━━\u001b[0m \u001b[32m8.7/8.7 MB\u001b[0m \u001b[31m187.7 MB/s\u001b[0m eta \u001b[36m0:00:00\u001b[0m00:01\u001b[0m\n",
      "\u001b[?25hUsing cached https://download.pytorch.org/whl/nightly/cu128/torch-2.9.0.dev20250813%2Bcu128-cp310-cp310-manylinux_2_28_x86_64.whl (899.7 MB)\n",
      "Using cached https://download.pytorch.org/whl/nightly/cu128/nvidia_nccl_cu12-2.27.5-py3-none-manylinux2014_x86_64.manylinux_2_17_x86_64.whl (322.3 MB)\n",
      "Using cached https://download.pytorch.org/whl/nightly/nvidia_nvshmem_cu12-3.3.9-py3-none-manylinux2014_x86_64.manylinux_2_17_x86_64.whl (124.6 MB)\n",
      "Using cached https://download.pytorch.org/whl/nightly/pytorch_triton-3.4.0%2Bgitf7888497-cp310-cp310-manylinux_2_27_x86_64.manylinux_2_28_x86_64.whl (154.6 MB)\n",
      "Using cached https://download.pytorch.org/whl/nightly/cu128/torchvision-0.24.0.dev20250813%2Bcu128-cp310-cp310-manylinux_2_28_x86_64.whl (8.7 MB)\n",
      "Installing collected packages: pytorch-triton, nvidia-nvshmem-cu12, nvidia-nccl-cu12, torch, torchvision\n",
      "  Attempting uninstall: nvidia-nccl-cu12\n",
      "    Found existing installation: nvidia-nccl-cu12 2.27.3\n",
      "    Uninstalling nvidia-nccl-cu12-2.27.3:\n",
      "      Successfully uninstalled nvidia-nccl-cu12-2.27.3\n",
      "Successfully installed nvidia-nccl-cu12-2.27.5 nvidia-nvshmem-cu12-3.3.9 pytorch-triton-3.4.0+gitf7888497 torch-2.9.0.dev20250813+cu128 torchvision-0.24.0.dev20250813+cu128\n",
      "\n",
      "\u001b[1m[\u001b[0m\u001b[34;49mnotice\u001b[0m\u001b[1;39;49m]\u001b[0m\u001b[39;49m A new release of pip is available: \u001b[0m\u001b[31;49m23.0.1\u001b[0m\u001b[39;49m -> \u001b[0m\u001b[32;49m25.2\u001b[0m\n",
      "\u001b[1m[\u001b[0m\u001b[34;49mnotice\u001b[0m\u001b[1;39;49m]\u001b[0m\u001b[39;49m To update, run: \u001b[0m\u001b[32;49mpip3 install --upgrade pip\u001b[0m\n"
     ]
    }
   ],
   "source": [
    "# 1) 清掉稳定版以避免多版本并存\n",
    "!python -m pip uninstall -y torch torchvision torchaudio pytorch-triton\n",
    "\n",
    "# 2) 安装 PyTorch nightly （CUDA 12.8）\n",
    "!python -m pip install --pre torch torchvision --index-url https://download.pytorch.org/whl/nightly/cu128\n",
    "\n",
    "# 3) 以源码方式安装你改过的 TorchTitan（先 clone 到本地）\n",
    "#   TorchTitan 官方“From source”同样要求 PyTorch nightly 或从源码的最新 PyTorch\n",
    "# pip install -r requirements.txt\n",
    "!python -m pip install -r requirements.txt\n"
   ]
  },
  {
   "cell_type": "code",
   "execution_count": 17,
   "id": "0e75a7b6",
   "metadata": {},
   "outputs": [
    {
     "name": "stdout",
     "output_type": "stream",
     "text": [
      "2.8.0+cu128\n",
      "PyTorch was built with CUDA version: 12.8\n"
     ]
    }
   ],
   "source": [
    "import torch\n",
    "print(torch.__version__)\n",
    "\n",
    "if torch.cuda.is_available():\n",
    "    print(f\"PyTorch was built with CUDA version: {torch.version.cuda}\")\n",
    "else:\n",
    "    print(\"CUDA is not available on this system.\")"
   ]
  },
  {
   "cell_type": "code",
   "execution_count": 19,
   "id": "3732e706",
   "metadata": {},
   "outputs": [
    {
     "name": "stdout",
     "output_type": "stream",
     "text": [
      "CODE_OF_CONDUCT.md  assets\t\t     pyproject.toml\t   scripts\n",
      "CONTRIBUTING.md     benchmarks\t\t     requirements-dev.txt  tests\n",
      "LICENSE\t\t    docs\t\t     requirements.txt\t   torchtitan\n",
      "README.md\t    multinode_trainer.slurm  run_train.sh\n"
     ]
    }
   ],
   "source": [
    "!ls"
   ]
  },
  {
   "cell_type": "code",
   "execution_count": 18,
   "id": "acb6a5a1",
   "metadata": {},
   "outputs": [
    {
     "name": "stdout",
     "output_type": "stream",
     "text": [
      "\u001b[91m╭─\u001b[0m\u001b[91m \u001b[0m\u001b[1;91mParsing error\u001b[0m\u001b[91m \u001b[0m\u001b[91m─────────────────────────────────────────────────────────────\u001b[0m\u001b[91m─╮\u001b[0m\n",
      "\u001b[91m│\u001b[0m Unrecognized arguments: torchtitan/models/nsa/train_configs/debug_model.toml \u001b[91m│\u001b[0m\n",
      "\u001b[91m│\u001b[0m \u001b[31m────────────────────────────────────────────────────────────────────────────\u001b[0m \u001b[91m│\u001b[0m\n",
      "\u001b[91m│\u001b[0m For full helptext, run \u001b[1mtrain_nsa.py --help\u001b[0m                                   \u001b[91m│\u001b[0m\n",
      "\u001b[91m╰──────────────────────────────────────────────────────────────────────────────╯\u001b[0m\n"
     ]
    }
   ],
   "source": [
    "!python -m torchtitan.models.nsa.train_nsa --config torchtitan/models/nsa/train_configs/debug_model.toml"
   ]
  }
 ],
 "metadata": {
  "kernelspec": {
   "display_name": "venv310",
   "language": "python",
   "name": "python3"
  },
  "language_info": {
   "codemirror_mode": {
    "name": "ipython",
    "version": 3
   },
   "file_extension": ".py",
   "mimetype": "text/x-python",
   "name": "python",
   "nbconvert_exporter": "python",
   "pygments_lexer": "ipython3",
   "version": "3.10.18"
  }
 },
 "nbformat": 4,
 "nbformat_minor": 5
}
